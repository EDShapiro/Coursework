{
 "cells": [
  {
   "cell_type": "markdown",
   "metadata": {
    "collapsed": true
   },
   "source": [
    "## Exercise 2.4 Construct a solution of the following two point boundary value problem:\n",
    "$$\n",
    "-u''(x) = f(x)\\qquad x \\in(0,1),\\qquad u(0) = \\alpha,\\qquad u(1) = \\beta,\n",
    "$$\n",
    "## From equation 2.6 we know that the general solution to the 1-D Poisson equation is\n",
    "$$\n",
    "u(x) = c_{1} + c_{2}x - \\int_{x}^{0}(x-y)f(y)dy\n",
    "$$\n",
    "## Applying boundary conditions\n",
    "$$\n",
    "u(0) = c_{1} = \\alpha\\\\\n",
    "u(1) =\\alpha+ c_{2} - \\int_{0}^{1}(1-y)f(y)dy = \\beta\\\\\n",
    "c_{2} = \\beta - \\alpha + \\int_{0}^{1}(1-y)f(y)dy\\\\\n",
    "u(x) = \\alpha  + x(\\beta - \\alpha + \\int_{0}^{1}(1-y)f(y)dy)-\\int_{0}^{1}(1-y)f(y)dy\\\\\n",
    "$$\n",
    "\n"
   ]
  },
  {
   "cell_type": "markdown",
   "metadata": {
    "collapsed": true
   },
   "source": [
    "## Exercise 2.5 Find a Green's function for this boundary value problem.\n",
    "## We use the code from problem 2.3 but with a new coefficient matrix, as $u(1) = \\beta, u(0) = \\alpha $, According to the notation used, this means that $c_{3} + c_{4} = 1$, and $c_{1} = 1\\alpha$. The new matrix is \n",
    "$$\n",
    "\\left\\{\n",
    "        \\begin{array}{rrrrrrrrrr}\n",
    "            c_1 &&   & &  & &   &=& \\alpha, \\\\\n",
    "            c_1 &+& yc_2 &-& c_3 &-& yc_4 &=& 0,\\\\\n",
    "                & & c_2  & &     & -&c_4  &=& 1, \\\\\n",
    "                & &      & & c_3 & & c_4 &=& \\beta,\n",
    "        \\end{array}\n",
    "    \\right.\n",
    "$$"
   ]
  },
  {
   "cell_type": "code",
   "execution_count": 2,
   "metadata": {
    "collapsed": false
   },
   "outputs": [
    {
     "name": "stdout",
     "output_type": "stream",
     "text": [
      "{(alpha, -alpha + beta - y + 1, alpha + y, -alpha + beta - y)}\n"
     ]
    }
   ],
   "source": [
    "import sympy as sp #Similar to symbolic toolbox in Matlab\n",
    "\n",
    "alpha, beta, x, y = sp.symbols('alpha, beta, x, y')\n",
    "c1, c2, c3, c4 = sp.symbols('c1, c2, c3, c4')\n",
    "\n",
    "A = sp.Matrix(([1, 0, 0, 0],[1, y, -1, -y],[0,1,0,-1],[0,0,1,1]))\n",
    "\n",
    "data = sp.Matrix([alpha,0,1,beta])\n",
    "\n",
    "c = sp.linsolve((A, data), c1,c2,c3,c4)\n",
    "print c"
   ]
  },
  {
   "cell_type": "markdown",
   "metadata": {},
   "source": [
    "### The Green's function\n",
    "\n",
    "From the above computation, we see that\n",
    "$$\n",
    "    \\large G(x,y) = \\left\\{ \\begin{array}{rr}\n",
    "                              \\alpha + (-\\alpha + \\beta -y +1)x, & x<y, \\\\\n",
    "                                (\\alpha+ y) + (-\\alpha + \\beta - y)x, & y\\leq x.\n",
    "                            \\end{array}\n",
    "                    \\right.\n",
    "$$"
   ]
  },
  {
   "cell_type": "markdown",
   "metadata": {},
   "source": [
    "## Exercise 2.5 Find a Green's function for the following two-point boundary value problem:\n",
    "$$\n",
    "-u''(x)=f(x),\\qquad x \\in (0,1), u(0) = 0, u'(1) = 0.\n",
    "$$\n",
    "## We use the code from problem 2.3 but with a new coefficient matrix, as $u_{+}'(1) = 0$. According to the notation used, this means that $c_{4} = 0$, and $c_{2} = 1$. The new matrix is \n",
    "$$\n",
    "\\left\\{\n",
    "        \\begin{array}{rrrrrrrrrr}\n",
    "            c_1 &&   & &  & &   &=& 0 \\\\\n",
    "            c_1 &+& yc_2 &-& c_3 &-& yc_4 &=& 0,\\\\\n",
    "                & & c_2  & &     & -&c_4  &=& 1, \\\\\n",
    "                & &      & &  & & c_4 &=& 0\n",
    "        \\end{array}\n",
    "    \\right.\n",
    "$$"
   ]
  },
  {
   "cell_type": "code",
   "execution_count": 5,
   "metadata": {
    "collapsed": false
   },
   "outputs": [
    {
     "name": "stdout",
     "output_type": "stream",
     "text": [
      "{(0, 1, y, 0)}\n"
     ]
    }
   ],
   "source": [
    "import sympy as sp #Similar to symbolic toolbox in Matlab\n",
    "\n",
    "alpha, beta, x, y = sp.symbols('alpha, beta, x, y')\n",
    "c1, c2, c3, c4 = sp.symbols('c1, c2, c3, c4')\n",
    "\n",
    "A = sp.Matrix(([1, 0, 0, 0],[1, y, -1, -y],[0,1,0,-1],[0,0,0,1]))\n",
    "\n",
    "data = sp.Matrix([0,0,1,0])\n",
    "\n",
    "c = sp.linsolve((A, data), c1,c2,c3,c4)\n",
    "print c"
   ]
  },
  {
   "cell_type": "markdown",
   "metadata": {},
   "source": [
    "### The Green's function\n",
    "\n",
    "From the above computation, we see that\n",
    "$$\n",
    "    \\large G(x,y) = \\left\\{ \\begin{array}{rr}\n",
    "                                  x, & x<y, \\\\\n",
    "                                y, & y\\leq x.\n",
    "                            \\end{array}\n",
    "                    \\right.\n",
    "$$"
   ]
  },
  {
   "cell_type": "markdown",
   "metadata": {},
   "source": [
    "Show that this solution is unique.\n",
    "Let $u_{1}$ and $u_{2}$ be solutions to the boundary value problems, which means they each satisy \n",
    "-$$\n",
    "u''_{1} = f(x)\\qquad -u''_{2} = f(x).\n",
    "$$\n",
    "Due to the fact that L is  linear operator. \n",
    "$$\n",
    "L(u_{1} - u_{2})= L(u_{1}) - L(u_{2}) \\\\\n",
    "= f(x) - f(x)\\\\\n",
    "=0 \n",
    "$$ \n",
    "So \n",
    "$$\n",
    "u_{1} - u_{2} = \\int_{0}^{1}G(y)0dy\n",
    "$$\n",
    "So u(x)  is a unique solution.\n"
   ]
  },
  {
   "cell_type": "markdown",
   "metadata": {},
   "source": [
    "## Exercise 2.7\n",
    "## Repeat exercise 2.6 for the following problem involving periodic boundary conditions:\n",
    "$$\n",
    "-u''(x) = f(x),\\qquad x\\in(0,1),\\qquad u'(0) = u'(1), \\qquad u(0) = u(1).\n",
    "$$\n",
    "## (a) Show that the condition\n",
    "$$\n",
    "\\int_{0}^{1} f(x)dx = 0\n",
    "$$\n",
    "## is necessary in order for this problem to have a solution\n",
    "## Applying the fundamental theorem of calculus to the Poission equation leads to\n",
    "$$\n",
    "u'(y) = u'(0) + \\int_{0}^{y}u''(z)dz\\\\\n",
    "u'(y) = u'(0) - \\int_{0}^{y}f(z)dz\n",
    "$$\n",
    "## Applying the boundary conditions we see that\n",
    "$$\n",
    "u'(1) = u'(0)-\\int_{0}^{1}f(z)\n",
    "$$\n",
    "## So $\\int_{0}^{1}f(z)$ must equal zero for the boundary condition $u'(0) = u'(1)$ to hold.\n",
    "\n",
    "## (b) Assume that u is a solution and define v(x) = u(x) + c, where c is some given constant. Is v a solution of the problem? Is the solution of the problem unique?\n",
    "$$\n",
    "v(x) = u(x) +c\n",
    "$$\n",
    "## From the text we know that \n",
    "$$\n",
    "u(x) = u(0) - \\int_{0}^{x}(x-y)f(y)dy,\n",
    "$$\n",
    "## and from the boundary conditions we know that $u(1) = u(0)$, so\n",
    "$$\n",
    "u(1) = u(0) - \\int_{0}^{1}(1-y)f(y)dy\\\\\n",
    "\\int_{0}^{1}(1-y)f(y)dy = 0\\\\\n",
    "v(1) = u(1) +c = u(0) +c = v(0),\n",
    "$$\n",
    "## which  satisfies the first periodic boundary condition. Now look at the derivatives at the boundary.\n",
    "$$\n",
    "v'(x) = u'(x) = u'(0) - \\int_{0}^{x}f(y)dy\\\\\n",
    "v'(1) = u'(1) = u'(0) = v'(0)\\\\\n",
    "v''(x)  = u''(x) = -f(x)\n",
    "$$\n",
    "## So v(x) satisfies all of the boundary conditions of u(x). The solution to the problem is not unique because $c-v(1) = u(1)$ , so c and v(1) can take on an infinite set of values that still satisfy the periodic boundary conditions.\n",
    "\n",
    "## (c) Assume that $\\int_{0}^{1} f(x)dx = 0$ is satisfied, show that the problem always has a solution. \n",
    "The general solution to the Poisson boundary value problem is:\n",
    "$$\n",
    "u(x) = c_{1} + c_{2}x - \\int_{0}^{x}(x-y)f(y)dy.\\\\\n",
    "$$\n",
    "In part b it was determined that $c_{1}$ is an arbitrary constant, and all boundary are met regardless of the chosen $c_{1}$, so let $c_{1} =0$. This indicates that $u(0) = 0 = u(1)$ The boundary value problem becomes:\n",
    "$$\n",
    "u(x) = c_{2}x - \\int_{0}^{x}(x-y)f(y)dy.\\\\\n",
    "u(1) = c_{2} - \\int_{0}^{1}(1-y)f(y)dy=0\\\\\n",
    "c_{2} = \\int_{0}^{1}(1-y)f(y)dy\n",
    "$$\n",
    "In part a it was determined that\n",
    "$$\n",
    "\\int_{0}^{1}f(y)dy=0\n",
    "$$\n",
    "so\n",
    "$$\n",
    "c_{2} = -\\int_{0}^{1}yf(y)dy\n",
    "$$\n",
    "Therefore the solution is the following\n",
    "$$\n",
    "u(x) = -x\\int_{0}^{1}yf(y)dy - \\int_{0}^{x}(x-y)f(y)dy.\n",
    "$$\n",
    "This solution satisfies the boundary conditions $u(1) = u(0)$, but it must be determined whether the boundary conditions $u'(1) = u'(0)$ are met. Use the Fundamental Theorem of Calculus to solve for u'(x).\n",
    "$$\n",
    "-\\frac{d(x\\int_{0}^{1}yf(y)dy)}{dx} = -\\int_{0}^{1}yf(y)dy\\\\\n",
    "-\\frac{d(\\int_{0}^{x}yf(y)dy)}{dx} = -xf(x)\\\\\n",
    "\\frac{d(\\int_{0}^{x}(x)f(y)dy)}{dx} = \\int_{0}^{x}f(y)dy + xf(x)\\\\\n",
    "$$\n",
    "The resulting solution for u'(x) is:\n",
    "$$\n",
    "u'(x) = -\\int_{0}^{1}yf(y)dy -(x-x)f(x)  - \\int_{0}^{x}f(y)dy.\\\\ \n",
    "$$\n",
    "The second term on the right hand side are zero, so\n",
    "$$\n",
    "u'(x) = -\\int_{0}^{1}yf(y)dy- \\int_{0}^{x}f(y)dy.\\\\\n",
    "u'(1) = -\\int_{0}^{1}yf(y)dy- \\int_{0}^{1}f(y)dy = -\\int_{0}^{1}yf(y)dy = u'(0) \\\\\n",
    "$$\n",
    "As $\\int_{0}^{1}f(y)dy = 0$. So the second boundary condition is satisfied, and a solution always exists.\\\\\n",
    "Show that the solution is uniquely determined by the extra condition.\\\\\n",
    "This extra condition allows us to determine a unique value for $c_{1}$.\n",
    "$$\n",
    "\\int_{0}^{1}u(x)dx = 0.\\\\\n",
    "$$\n",
    "Integrating the right hand side of u(x):\n",
    "$$\n",
    "u(x) =\\int_{0}^{1}c_{1}dx -\\int_{0}^{1}xdx\\int_{0}^{1}yf(y)dy - \\int_{0}^{x}(\\int_{0}^{1}xdx-y)f(y)dy=0\\\\\n",
    " c_{1}=\\frac{1}{2}\\int_{0}^{1}yf(y)dy +\\int_{0}^{x}(\\frac{1}{2}-y)f(y)dy\\\\\n",
    "$$\n",
    "so c is uniquely determined. I am not sure how to simplify down to your solution that $c_{1} = 0$"
   ]
  }
 ],
 "metadata": {
  "anaconda-cloud": {},
  "kernelspec": {
   "display_name": "Python [conda root]",
   "language": "python",
   "name": "conda-root-py"
  },
  "language_info": {
   "codemirror_mode": {
    "name": "ipython",
    "version": 2
   },
   "file_extension": ".py",
   "mimetype": "text/x-python",
   "name": "python",
   "nbconvert_exporter": "python",
   "pygments_lexer": "ipython2",
   "version": "2.7.12"
  }
 },
 "nbformat": 4,
 "nbformat_minor": 1
}
