{
 "cells": [
  {
   "cell_type": "code",
   "execution_count": 1,
   "metadata": {
    "collapsed": true
   },
   "outputs": [],
   "source": [
    "# Setup numerical environment\n",
    "import numpy as np\n",
    "%matplotlib inline\n",
    "import matplotlib.pyplot as plt\n",
    "plt.rcParams.update({'font.size': 14})"
   ]
  },
  {
   "cell_type": "markdown",
   "metadata": {},
   "source": [
    "# Exercise 1.4\n",
    "We have discussed the question of stability with respect to perturbations in the initial conditions. \n",
    "A model which is expressed as a differential equation may also involve coefficients based on measurements. \n",
    "Hence, it is also relevant to ask whether a solution is stable with respect to changes in coefficients. \n",
    "One example can be based on the problem of Exercise 1.2,\n",
    "\\begin{eqnarray*} \n",
    "    u(t) &=& −\\alpha u(t), \\\\\n",
    "    u(0) &=& u_0. \n",
    "\\end{eqnarray*}\n",
    "We assume that $\\alpha$ > 0 is a measured number, and we consider a slightly perturbed problem\n",
    "\\begin{eqnarray*}\n",
    "    v(t) &=& −(\\alpha + \\epsilon)v(t), \\\\\n",
    "    v(0) &=& u_0.\n",
    "\\end{eqnarray*}"
   ]
  },
  {
   "cell_type": "markdown",
   "metadata": {},
   "source": [
    "(a) We are interested in the solution at t = 1. Do small changes in α imply small changes in the solution?"
   ]
  },
  {
   "cell_type": "markdown",
   "metadata": {},
   "source": [
    "### Quick discussion on stability\n",
    "\n",
    "Stability is defined rather vaguely in the text as some sort of intuitive notion that if some quantity in the problem is perturbed by a small amount, then the solution (or some quantity of interest computed from the solution) should only be perturbed by a small amount. \n",
    "This problem is phrased in a similar way.\n",
    "What does this mean mathematically?\n",
    "Essentially, it boils down to determining whether or not the solution (or quantity of interest like the value of the solution at some fixed point in time as in this problem) of the differential equation is ***continuous*** with respect to the quantity in the differential equation that is being perturbed.\n",
    "With this in mind, there are several ways to proceed. \n",
    "\n",
    "   - Show that the solution (or quantity of interest) is continuous using a classical notion of continuity like an $\\epsilon--\\delta$ type definition (with appropriate changes to the notation if $\\epsilon$ or $\\delta$ are being used to represent the perturbation) or that the limit as the perturbation goes to zero of the perturbed solution is in fact the original solution.\n",
    "   \n",
    "   \n",
    "   - Show that the difference in solutions is bounded by some constant that is independent of the perturbation multiplied by some function of the perturbation that can be made \"small\" if the perturbation were made \"small\". \n",
    "   \n",
    "I believe the authors had this second approach in mind when writing the text, but it looks like this vagueness has caused some confusion, so I will give a more precise solution below. \n",
    "When doing revisions, feel free to write it up in more colloquial terms. \n",
    "The only requirement when writing in rather plain language is that it is still clear that small perturbations can result in solutions that are \"near\" the original solution to the unperturbed problem.\n",
    "\n",
    "***(A mathematically precise) Solution to (a)***\n",
    "\n",
    "Let $tol>0$ be given, which denotes an arbitrary, but fixed, error tolerance.\n",
    "\n",
    "The goal is to show that there exists some $\\eta>0$ such that if $|\\epsilon|<\\eta$, then $|u(1)-v(1)|<tol$.\n",
    "\n",
    "In other words, $\\eta>0$ represents a bound on the magnitude of the perturbation such that if we control the perturbation to be within this bound, then the difference in solutions is within the prescribed error tolerance. \n",
    "\n",
    "The solutions to the two problems are given by\n",
    "$$\n",
    "    u(t) = u_0e^{-\\alpha t}, \\text{ and } v(t) = u_0e^{-(\\alpha+\\epsilon)t}.\n",
    "$$\n",
    "Thus, at $t=1$, we have that\n",
    "\\begin{eqnarray}\n",
    "    \\left| u(1)-v(1)\\right| &=& \\left|u_0e^{-\\alpha} - u_0 e^{-(\\alpha + \\epsilon)}\\right| \\\\\n",
    "                            &=& \\left|u_0e^{-\\alpha}\\right| \\left| 1-e^{-\\epsilon}\\right|.\n",
    "\\end{eqnarray}\n",
    "Since $\\lim_{\\epsilon\\to 0} 1-e^{-\\epsilon} = 0$, there exists $\\eta>0$ such that \n",
    "$$\n",
    "    \\left|\\epsilon\\right|<\\eta \\Rightarrow \\left|1-e^{-\\epsilon}\\right| < \\frac{tol}{1+\\left|u_0e^{-\\alpha}\\right|}.\n",
    "$$\n",
    "Choose such an $\\eta>0$, and observe that for such an $\\eta>0$, we have from above that\n",
    "$$\n",
    "    \\left| u(1)-v(1)\\right| < tol. \\ \\Box\n",
    "$$\n",
    "\n",
    "***Aside:*** I divided by $1+\\left|u_0e^{-\\alpha}\\right|$ to avoid having to split up the argument into two cases where $u_0=0$ or $u_0\\neq 0$."
   ]
  },
  {
   "cell_type": "markdown",
   "metadata": {},
   "source": [
    "***(A still mathematically precise but shorter) Solution to (a)***\n",
    "\n",
    "The solutions to the two problems are given by\n",
    "$$\n",
    "    u(t) = u_0e^{-\\alpha t}, \\text{ and } v(t) = u_0e^{-(\\alpha+\\epsilon)t}.\n",
    "$$\n",
    "Thus, at $t=1$, we have that\n",
    "\\begin{eqnarray}\n",
    "    \\left| u(1)-v(1)\\right| &=& \\left|u_0e^{-\\alpha} - u_0 e^{-(\\alpha + \\epsilon)}\\right| \\\\\n",
    "                            &=& \\left|u_0e^{-\\alpha}\\right| \\left| 1-e^{-\\epsilon}\\right|.\n",
    "\\end{eqnarray}\n",
    "Since $\\lim_{\\epsilon\\to 0} 1-e^{-\\epsilon} = 0$ and $\\left|u_0e^{-\\alpha}\\right|$ is independent of $\\epsilon$, we see that  \n",
    "$$\n",
    "    \\lim_{\\epsilon\\to 0} \\left|u(1)-v(1)\\right| = 0, \n",
    "$$\n",
    "so the problem is stable with respect to perturbations in $\\alpha$. $\\Box$"
   ]
  },
  {
   "cell_type": "markdown",
   "metadata": {},
   "source": [
    "(b) Next we assume that both u0 and $\\alpha$ are measured. Discuss the stability of the problem from exercise 1.2 in this context."
   ]
  },
  {
   "cell_type": "markdown",
   "metadata": {},
   "source": [
    "***(A very detailed and precise) Solution to (b)***\n",
    "\n",
    "The perturbed problem is now given by\n",
    "\\begin{eqnarray*}\n",
    "    v'(t) &=& -(\\alpha+\\epsilon_1)v(t), \\\\\n",
    "    v(0)  &=& u_0 + \\epsilon_2,\n",
    "\\end{eqnarray*}\n",
    "and the solution is now given by\n",
    "$$\n",
    "    v(t) = (u_0+\\epsilon_2) e^{-(\\alpha+\\epsilon_1)t}.\n",
    "$$\n",
    "\n",
    "As in part (a), let $tol>0$ be given.\n",
    "\n",
    "We now seek an $\\eta>0$ such that \n",
    "$$\n",
    "    \\left|\\epsilon_1\\right| + \\left|\\epsilon_2\\right| < \\eta \\Rightarrow \\left|u(1)-v(1)\\right| < tol.\n",
    "$$\n",
    "\n",
    "Application of the triangle inequality gives\n",
    "\\begin{eqnarray*}\n",
    "    \\left|u(1)-v(1)\\right| &=& \\left|u_0e^{-\\alpha} - (u_0+\\epsilon_2)e^{-(\\alpha + \\epsilon_1)}\\right| \\\\\n",
    "                    &\\leq & \\underbrace{\\left|u_0 e^{-\\alpha}\\right| \\left|1-e^{-\\epsilon}\\right|}_{\\mathbf{I}} + \\underbrace{\\left| \\epsilon_2 e^{-(\\alpha+\\epsilon_1)}\\right|}_{\\mathbf{II}}\n",
    "\\end{eqnarray*}\n",
    "\n",
    "Since $tol/2>0$, the result of part (a) implies there exists $\\eta_1>0$ such that \n",
    "$$\n",
    "    \\left|\\epsilon_1\\right|<\\eta_1 \\Rightarrow \\mathbf{I}< \\frac{tol}{2}.\n",
    "$$\n",
    "Choose such an $\\eta_1>0$.\n",
    "\n",
    "Moreover, since $e^{-(\\alpha+\\epsilon_1)}$ is a continuous function of $\\epsilon_1$ for any value of $\\epsilon_1$, it follows that there exists some $C_{\\eta_1}>0$ such that\n",
    "$$\n",
    "    \\left|\\epsilon_1\\right| < \\eta_1 \\Rightarrow \\left|e^{-(\\alpha+\\epsilon_1)}\\right| < C_{\\eta_1}.\n",
    "$$\n",
    "Choose such a $C_{\\eta_1}$. \n",
    "It follows that\n",
    "$$\n",
    "    \\mathbf{II} < \\left|\\epsilon_2 C_{\\eta_1}\\right|.\n",
    "$$\n",
    "\n",
    "Since $\\lim_{\\epsilon_2 \\to 0} \\epsilon_2 C_{\\eta_1} = 0$ and $tol/2>0$, there exists $\\eta_2>0$ such that \n",
    "$$\n",
    "    \\left|\\epsilon_2\\right| < \\eta_2 \\Rightarrow \\left|\\epsilon_2 C_{\\eta_1}\\right| < \\frac{tol}{2} \\Rightarrow \\mathbf{II} < \\frac{tol}{2}.\n",
    "$$\n",
    "Choose such an $\\eta_2>0$.\n",
    "\n",
    "Let $\\eta = \\min\\{\\eta_1,\\eta_2\\}$.\n",
    "\n",
    "For $\\epsilon_1$ and $\\epsilon_2$ chosen such that\n",
    "$$\n",
    "    \\left|\\epsilon_1\\right| + \\left|\\epsilon_2\\right| < \\eta, \n",
    "$$\n",
    "it then follows immediately that \n",
    "$$\n",
    "    \\left|u(1)-v(1)\\right| < \\frac{tol}{2}+\\frac{tol}{2} = tol. \\ \\Box\n",
    "$$\n",
    "\n",
    "***Aside:*** I used the notation $C_{\\eta_1}$ above to make explicit the dependence of this constant on the choice of $\\eta_1$. "
   ]
  },
  {
   "cell_type": "markdown",
   "metadata": {},
   "source": [
    "***(A precise but shorter) Solution to (b)***\n",
    "\n",
    "The perturbed problem is now given by\n",
    "\\begin{eqnarray*}\n",
    "    v'(t) &=& -(\\alpha+\\epsilon_1)v(t), \\\\\n",
    "    v(0)  &=& u_0 + \\epsilon_2,\n",
    "\\end{eqnarray*}\n",
    "and the solution is now given by\n",
    "$$\n",
    "    v(t) = (u_0+\\epsilon_2) e^{-(\\alpha+\\epsilon_1)t}.\n",
    "$$\n",
    "\n",
    "Application of the triangle inequality gives\n",
    "\\begin{eqnarray*}\n",
    "    \\left|u(1)-v(1)\\right| &=& \\left|u_0e^{-\\alpha} - (u_0+\\epsilon_2)e^{-(\\alpha + \\epsilon_1)}\\right| \\\\\n",
    "                    &\\leq & \\left|u_0 e^{-\\alpha }\\right| \\left|1-e^{-\\epsilon}\\right| + \\left| \\epsilon_2 e^{-(\\alpha+\\epsilon_1)} \\right|\n",
    "\\end{eqnarray*}\n",
    "\n",
    "Let $\\epsilon := (\\epsilon_1,\\epsilon_2)\\in\\mathbb{R}^2$, then we see by properties of limits that\n",
    "\\begin{eqnarray*}\n",
    "    \\lim_{\\epsilon\\to(0,0)} \\Big( \\left| u_0 e^{-\\alpha} \\right| \\left|1-e^{-\\epsilon}\\right| + \\left| \\epsilon_2 e^{-(\\alpha+\\epsilon_1)}\\right| \\Big) &=& \\left|u_0e^{-\\alpha}\\right| \\lim_{\\epsilon\\to(0,0)}  \\left|1-e^{-\\epsilon}\\right| + \\lim_{\\epsilon\\to(0,0)} \\left| \\epsilon_2 e^{-(\\alpha+\\epsilon_1)} \\right| \\\\\n",
    "                                      &=& \\left|u_0e^{-\\alpha}\\right| \\cdot 0 + 0\\cdot 1 \\\\\n",
    "                                      &=& 0.\n",
    "\\end{eqnarray*}\n",
    "Thus, \n",
    "$$\n",
    "    \\lim_{\\epsilon\\to(0,0)} \\left|u(1)-v(1)\\right| = 0, \n",
    "$$\n",
    "so the problem is stable with respect to simultaneous perturbations in $\\alpha$ and $u_0$. $\\Box$"
   ]
  },
  {
   "cell_type": "markdown",
   "metadata": {},
   "source": [
    "# Exercise 1.5\n",
    "\n",
    "Find the exact solution of the following Cauchy problems:"
   ]
  },
  {
   "cell_type": "markdown",
   "metadata": {},
   "source": [
    "(b) $$u_t − xu_x = 0, \\quad x \\in \\mathbb{R}, t>0, $$\n",
    "$$ u(x,0) = \\sin(87x). $$"
   ]
  },
  {
   "cell_type": "markdown",
   "metadata": {},
   "source": [
    "***Solution to (b)***\n",
    "\n",
    "This is identical to Example 1.2 except for the $-x$ in place of $x$ and the explicit form of $\\phi(x)=\\sin(87x)$. \n",
    "\n",
    "It follows that the characteristics are defined by\n",
    "$$\n",
    "    x'(t) = -x(t), \\ x(0) = x_0, \n",
    "$$\n",
    "so\n",
    "$$\n",
    "    x(t) = x_0e^{-t} \\Rightarrow x_0 = xe^t\n",
    "$$\n",
    "Then, from (1.23), we get\n",
    "$$\n",
    "    u(x,t) = \\boxed{\\sin(87xe^t)}.\n",
    "$$\n",
    "It is readily verified that this function satisfies the IVP (it is a good idea to show this)."
   ]
  },
  {
   "cell_type": "markdown",
   "metadata": {},
   "source": [
    "(c) $$u_t + xu_x = x, \\quad x \\in \\mathbb{R}, t>0, $$\n",
    "$$ u(x,0) = \\cos(90x). $$"
   ]
  },
  {
   "cell_type": "markdown",
   "metadata": {},
   "source": [
    "***Solution to (c)***\n",
    "\n",
    "The characteristics are identical to Example 1.2, but now this is inhomogeneous.\n",
    "\n",
    "So, we use $x=x_0e^t$ and $x_0=xe^{-t}$, then (1.31) gives\n",
    "\\begin{eqnarray*}\n",
    "    u(x,t) &=& \\cos(90xe^{-t}) + \\int_0^t x_0e^\\tau \\, d\\tau \\\\\n",
    "           &=& \\cos(90xe^{-t}) + x_0(e^t - 1) \\\\\n",
    "           &=& \\cos(90xe^{-t})+xe^{-t}(e^t-1) \\\\\n",
    "           &=& \\boxed{\\cos(90xe^{-t})+x(1-e^{-t}).}\n",
    "\\end{eqnarray*}\n",
    "It is readily verified that this function satisfies the IVP (it is a good idea to show this)."
   ]
  },
  {
   "cell_type": "markdown",
   "metadata": {},
   "source": [
    "(d) $$u_t + xu_x = x^2, \\quad x \\in \\mathbb{R}, t>0, $$\n",
    "$$ u(x,0) = \\sin(87x)\\cos(90x). $$"
   ]
  },
  {
   "cell_type": "markdown",
   "metadata": {},
   "source": [
    "***Solution to (d)***\n",
    "\n",
    "The only change from (c) is the initial condition and forcing, so again by (1.31), we have\n",
    "\\begin{eqnarray*}\n",
    "    u(x,t) &=& \\sin(87xe^{-t})\\cos(90xe^{-t}) + \\int_0^t x_0^2 e^{2\\tau}\\, d\\tau \\\\\n",
    "           &=& \\sin(87xe^{-t})\\cos(90xe^{-t}) + \\frac{x_0^2}{2} (e^{2t}-1) \\\\\n",
    "           &=& \\sin(87xe^{-t})\\cos(90xe^{-t}) + \\frac{x^2e^{-2t}}{2} (e^{2t}-1) \\\\\n",
    "           &=& \\boxed{\\sin(87xe^{-t})\\cos(90xe^{-t}) + \\frac{x^2}{2} (1-e^{-2t})}.\n",
    "\\end{eqnarray*}\n",
    "It is readily verified that this function satisfies the IVP (it is a good idea to show this)."
   ]
  },
  {
   "cell_type": "markdown",
   "metadata": {},
   "source": [
    "# Exercise 1.7\n",
    "\n",
    "We want to consider the stability of first-order nonhomogeneous Cauchy problems\n",
    "\\begin{eqnarray*}\n",
    "    u_t + au_x &=& b(x,t), \\ x\\in\\mathbb{R}, t>0, \\\\\n",
    "    u(x,0)     &=& \\phi(x), \\ x\\in\\mathbb{R}.\n",
    "\\end{eqnarray*}\n",
    "We assume that $a$ is a constant and that $b$ and $\\phi$ are given smooth functions.\n",
    "Consider also the Cauchy problem\n",
    "\\begin{eqnarray*}\n",
    "    v_t + av_x &=& b(x,t), \\ x\\in\\mathbb{R}, t>0, \\\\\n",
    "        v(x,0) &=& \\phi(x)+\\epsilon(x), \n",
    "\\end{eqnarray*}\n",
    "where $\\epsilon(x)$ is a smooth function. \n",
    "Show that\n",
    "$$\n",
    "    \\sup_{x\\in\\mathbb{R}, t\\geq 0} \\left| u(x,t) - v(x,t) \\right| = \\sup_{x\\in\\mathbb{R}} \\left| \\epsilon(x)\\right|,\n",
    "$$\n",
    "and conclude that the Cauchy problem (1.58) is stable with respect to perturbations in the initial data."
   ]
  },
  {
   "cell_type": "markdown",
   "metadata": {},
   "source": [
    "***Solution to 1.7 in the spirit of the longer solutions of 1.4 above***\n",
    "\n",
    "Let $tol>0$ be given.\n",
    "\n",
    "By Example 1.1, the characteristics are $x(t) = x_0+at$ so $x_0 = x-at$. \n",
    "The solutions are given by (1.31), so\n",
    "$$\n",
    "    u(x,t) = \\phi(x_0) + \\int_0^t b(x(\\tau), \\tau)\\, d\\tau, \n",
    "$$\n",
    "and\n",
    "$$\n",
    "    v(x,t) = \\phi(x_0) + \\epsilon(x_0) + \\int_0^t b(x(\\tau),\\tau)\\, d\\tau.\n",
    "$$\n",
    "Therefore,\n",
    "$$\n",
    "    \\sup_{x\\in\\mathbb{R}, t\\geq 0} \\left| u(x,t) - v(x,t) \\right| = \\sup_{x\\in\\mathbb{R}} \\left| \\epsilon(x)\\right|.\n",
    "$$\n",
    "Thus, for any $\\epsilon(x)$ such that $\\sup_{x\\in\\mathbb{R}} \\left| \\epsilon(x)\\right| < tol$, the conclusion follows. $\\Box$"
   ]
  },
  {
   "cell_type": "markdown",
   "metadata": {},
   "source": [
    "# Exercise 1.10\n",
    "\n",
    "\n",
    "Find the solution of the Cauchy problem\n",
    "$$ u_t = \\epsilon u_{xx}, \\quad x \\in \\mathbb{R}, t>0 $$\n",
    "\n",
    "$$ u(x,0) = \\left\\{\\begin{array}{rr}\n",
    "                                    0 & x ≤ 0 \\\\\n",
    "                                    1 & x > 0 \\\\\n",
    "                                  \\end{array}\n",
    "                           \\right.\n",
    "$$\n",
    "\n",
    "for any given constant $\\epsilon$ > 0. Use the solution formula to plot the solution at t = 1 for $x \\in [−1, 1]$ using $\\epsilon = \\frac{1}{10}, \\frac{1}{2}, 1, 10$. In order to use the solution formula you will have to apply numerical integration. Those not familiar with this subject may consult Project 2.1."
   ]
  },
  {
   "cell_type": "markdown",
   "metadata": {},
   "source": [
    "***Solution to Cauchy problem of Exercise 1.10***\n",
    "\n",
    "Following the derivation of the solution to (1.48) in Section 1.4.4, we see that (1.52) changes to \n",
    "$$\n",
    "    \\epsilon w''(y) + (y/2)w'(y) = 0.\n",
    "$$\n",
    "Since $\\epsilon>0$, we can divide by $\\epsilon$ to rewrite this as\n",
    "$$\n",
    "    w''(y) + (y/(2\\epsilon)) w'(y) = 0.\n",
    "$$\n",
    "The integrating factor then changes to \n",
    "$$\n",
    "    e^{y^2/(4\\epsilon)}.\n",
    "$$\n",
    "We then obtain\n",
    "$$\n",
    "    w'(z) = \\alpha e^{-z^2/(4\\epsilon)},\n",
    "$$\n",
    "where $\\alpha$ is some constant of integration.\n",
    "\n",
    "Then, in the $u$-substitution for computing $w(y)$, we now have\n",
    "$$\n",
    "    w(y) = 2\\epsilon\\alpha \\int_{-\\infty}^{y/(2\\sqrt{\\epsilon})} e^{-\\theta^2}\\, d\\theta.\n",
    "$$\n",
    "The boundary condition $w(\\infty)=1$ then gives \n",
    "$$\n",
    "    2\\sqrt{\\epsilon}\\alpha = 1/\\sqrt{\\pi}.\n",
    "$$\n",
    "Finally, we have that (1.55) changes to\n",
    "$$\n",
    "    u(x,t) = \\frac{1}{\\sqrt{\\pi}} \\int_{-\\infty}^{x/(2\\sqrt{\\epsilon t})} e^{-\\theta^2}\\, d\\theta.\n",
    "$$\n",
    "\n",
    "***Interpretation:*** If $\\epsilon=1$, then this is the standard heat equation and we see that our solution coincides with (1.55), which is a good sanity check.\n",
    "When $\\epsilon>1$, this implies that for a given value of $x\\neq 0$ and $t>0$, the magnitude of $x/(2\\sqrt{\\epsilon t})$ is smaller than the magnitude of $x/(2\\sqrt{t})$. \n",
    "Does this imply that the diffusion of heat is sped up or slowed down by choosing $\\epsilon>1$?\n",
    "Taken another way, suppose that we fix $x\\neq 0$ and $t_1>0$, and seek a value of $t_2>0$ so that\n",
    "$$\n",
    "    \\frac{x}{2\\sqrt{\\epsilon t_1}} = \\frac{x}{2\\sqrt{t_2}}.\n",
    "$$\n",
    "Solving for $t_2$, we see that\n",
    "$$\n",
    "    t_2 = \\epsilon t_1 > t_1\n",
    "$$\n",
    "where the inequality follows since $\\epsilon>1$.\n",
    "Thus, we see that the diffusion of heat in a materialof the same shape but where $\\epsilon=1$ takes longer than when $\\epsilon>1$. \n",
    "In other words, the diffusion is sped up when $\\epsilon>1$. \n",
    "This makes physical sense since larger values of $\\epsilon>1$ coincide with a more *diffusive* material that allows for heat to easily diffuse within the material (the diffusion, represented by second derivatives, is getting *magnified* by the value of $\\epsilon>1$). \n",
    "A similar argument holds when $0<\\epsilon<1$ to show that the diffusion is slowed down for such choices of $\\epsilon$."
   ]
  },
  {
   "cell_type": "markdown",
   "metadata": {},
   "source": [
    "### Numerical evaluation and plots of the solution\n",
    "\n",
    "We use the error function (see https://en.wikipedia.org/wiki/Error_function for more details), commonly denoted by $erf$, that is available as the `erf` function within `scipy.special` (see https://docs.scipy.org/doc/scipy-0.14.0/reference/generated/scipy.special.erf.html)to plot the solution below. \n",
    "First, we import all the necessary packages in the code block below."
   ]
  },
  {
   "cell_type": "code",
   "execution_count": 2,
   "metadata": {
    "collapsed": true
   },
   "outputs": [],
   "source": [
    "from scipy.special import erf "
   ]
  },
  {
   "cell_type": "markdown",
   "metadata": {},
   "source": [
    "To understand how the `erf` function works, we first recreate Figure 1.6 from the text that is of Eq. (1.55) where\n",
    "$$\n",
    "    \\large u(x,t) = \\frac{1}{\\sqrt{\\pi}} \\int_{-\\infty}^{x/(2\\sqrt{t})} e^{-\\theta^2}\\, d\\theta\n",
    "$$\n",
    "at $t=0, 0.25,$ and $1$ for $x\\in[-2,2]$. \n",
    "Since \n",
    "$$\n",
    "    \\large erf(x) = \\frac{2}{\\sqrt{\\pi}} \\int_0^x e^{-\\theta^2}\\, d\\theta, \n",
    "$$\n",
    "and $u(0,t)=\\frac{1}{2}$ for all $t>0$ (this can be seen by Exercise 1.11(b) and exploiting symmetry), we see that we can rewrite $u(x,t)$ in Eq. (1.55) as\n",
    "$$\n",
    "    \\large u(x,t) = \\frac{1}{2} \\left[1+erf(x/(2\\sqrt{t}))\\right].\n",
    "$$"
   ]
  },
  {
   "cell_type": "code",
   "execution_count": 3,
   "metadata": {
    "collapsed": false
   },
   "outputs": [
    {
     "name": "stderr",
     "output_type": "stream",
     "text": [
      "C:\\Users\\eecsu\\Anaconda2\\lib\\site-packages\\ipykernel\\__main__.py:7: RuntimeWarning: divide by zero encountered in divide\n"
     ]
    },
    {
     "data": {
      "text/plain": [
       "<matplotlib.legend.Legend at 0x703fc50>"
      ]
     },
     "execution_count": 3,
     "metadata": {},
     "output_type": "execute_result"
    },
    {
     "data": {
      "image/png": "[encoded data removed]",
      "text/plain": [
       "<matplotlib.figure.Figure at 0x703fc18>"
      ]
     },
     "metadata": {},
     "output_type": "display_data"
    }
   ],
   "source": [
    "# Recreation of Figure 1.6 in text\n",
    "\n",
    "x = np.linspace(-2,2,200)\n",
    "times = np.array([0, 0.25, 1])\n",
    "\n",
    "for t in times:\n",
    "    u = 1./2 *(1+erf(x/(2*np.sqrt(t))))\n",
    "    plt.plot(x, u, label='t='+str(t))\n",
    "\n",
    "plt.legend(loc='upper left')"
   ]
  },
  {
   "cell_type": "markdown",
   "metadata": {},
   "source": [
    "We now plot the solution at $t=1$ for $x\\in[-1,1]$ using $\\epsilon=1/10, 1/2, 1, 10$. \n",
    "\n",
    "First, we rewrite our solution $u(x,t)$ in terms of the error function, so that\n",
    "$$\n",
    "    \\large u(x,t) =  \\frac{1}{2} \\left[1+erf(x/(2\\epsilon\\sqrt{t}))\\right].\n",
    "$$"
   ]
  },
  {
   "cell_type": "code",
   "execution_count": 4,
   "metadata": {
    "collapsed": false
   },
   "outputs": [
    {
     "data": {
      "text/plain": [
       "<matplotlib.legend.Legend at 0x14157908>"
      ]
     },
     "execution_count": 4,
     "metadata": {},
     "output_type": "execute_result"
    },
    {
     "data": {
      "image/png": "[encoded data removed]",
      "text/plain": [
       "<matplotlib.figure.Figure at 0x13f4de48>"
      ]
     },
     "metadata": {},
     "output_type": "display_data"
    }
   ],
   "source": [
    "x = np.linspace(-1,1,200)\n",
    "t = 1\n",
    "epsilons = np.array([1./10, 1./2, 1., 10])\n",
    "\n",
    "for epsilon in epsilons:\n",
    "    u = 1./2 *(1+erf(x/(2*np.sqrt(epsilon*t))))\n",
    "    plt.plot(x, u, label='\\epsilon='+str(epsilon))\n",
    "\n",
    "plt.legend(loc='upper left')"
   ]
  },
  {
   "cell_type": "markdown",
   "metadata": {},
   "source": [
    "# Exercise 1.14\n",
    "\n",
    "Consider the initial value problem for the wave equation, i.e.\n",
    "\n",
    "$$ u_{tt} = c^2 u_{xx}, x \\in \\mathbb{R}, t>0, $$\n",
    "$$ u(x,0) = \\phi(x), $$\n",
    "$$ u_t(x,0) = \\psi(x). $$\n",
    "\n",
    "The purpose of this exercise is to give an alternative derivation of the d’Alembert solution (1.33), based on the method of characteristics for first order equations."
   ]
  },
  {
   "cell_type": "markdown",
   "metadata": {},
   "source": [
    "(a) Assume that $u = u(x,t)$ solves the above system and let $v = u_t + cu_x$. Show that\n",
    "\n",
    "$$ v_t − cv_x = 0. $$"
   ]
  },
  {
   "cell_type": "markdown",
   "metadata": {},
   "source": [
    "***Solution to (a)***\n",
    "\n",
    "If $v=u_t+cu_x$, then \n",
    "$$\n",
    "    v_t = u_{tt} + cu_{xt}, \\text{ and } v_x = u_{tx} + cu_{xx}.\n",
    "$$\n",
    "Assuming $u$ is sufficiently smooth, then $u_{tx} = u_{xt}$. Using this along with the fact that $u_{tt}=c^2u_{xx}$, we have that\n",
    "$$\n",
    "    v_t - cv_x = u_{tt}+cu_{xt} - cu_{tx} -c^2u_{xx} = 0. \\ \\Box\n",
    "$$"
   ]
  },
  {
   "cell_type": "markdown",
   "metadata": {},
   "source": [
    "(b) Find $v(x,t)$ expressed by $\\phi$ and $\\psi$."
   ]
  },
  {
   "cell_type": "markdown",
   "metadata": {},
   "source": [
    "***Solution to (b)***\n",
    "\n",
    "Since $v=u_t + cu_x$, it follows that\n",
    "\\begin{eqnarray*}\n",
    "    v(x,0) &=& u_t(x,0) + cu_x(x,0) \\\\\n",
    "           &=& \\psi(x) + c\\phi'(x).\n",
    "\\end{eqnarray*}\n",
    "\n",
    "Thus, the (homogeneous) Cauchy problem defined by $v_t-cv_x=0$ with this initial condition is solved just as in Example 1.1 where we make the substitution $-c$ for $a$ to get\n",
    "$$\n",
    "    v(x,t) = \\boxed{\\psi(x+ct) + c\\phi'(x+ct)}.\n",
    "$$"
   ]
  },
  {
   "cell_type": "markdown",
   "metadata": {},
   "source": [
    "(c) Explain why\n",
    "$$ u(x,t) = \\phi(x − ct) + \\int_0^t v[x - c(t-\\tau), \\tau] d\\tau. $$"
   ]
  },
  {
   "cell_type": "markdown",
   "metadata": {},
   "source": [
    "***Solution to (c)***\n",
    "\n",
    "The (inhomogeneous) Cauchy problem given by $u_t+cu_x = v$ with $u(x,0) = \\phi(x)$ is then solved by (1.31) where the characteristics are identical to Example 1.1 (except with $a=c$ which gives $x = x_0 + ct$). Thus, from (1.31) we have\n",
    "$$\n",
    "    u(x,t) = \\phi(x_0) + \\int_0^t v[x_0+c\\tau, \\tau]\\, d\\tau.\n",
    "$$\n",
    "Since $x_0 = x - ct$, substitution of this into the above formula gives\n",
    "$$\n",
    "    u(x,t) = \\phi(x-ct) + \\int_0^t v[x-c(t-\\tau),\\tau]\\, d\\tau. \\ \\Box\n",
    "$$"
   ]
  },
  {
   "cell_type": "markdown",
   "metadata": {},
   "source": [
    "(d) Derive the expression (1.59a) for $u(x,t)$."
   ]
  },
  {
   "cell_type": "markdown",
   "metadata": {},
   "source": [
    "***Solution to (d)***\n",
    "\n",
    "Substitution of (b) into the integral in (c) gives\n",
    "$$\n",
    "    \\int_0^t v[x-c(t-\\tau),\\tau]\\, d\\tau = \\int_0^t \\psi(x-c(t-\\tau)+c\\tau) + c\\phi'(x-c(t-\\tau)+c\\tau)\\, d\\tau.\n",
    "$$\n",
    "The arguments $x-c(t-\\tau)+c\\tau=x-ct+2c\\tau$. \n",
    "Then, by the Fundamental Theorem of Calculus,\n",
    "$$\n",
    "    \\int_0^t c\\phi'(x-ct+2c\\tau)\\, d\\tau = \\frac{1}{2}\\left(\\phi(x+ct) - \\phi(x-ct)\\right). \n",
    "$$\n",
    "Letting $\\theta=x-ct+2c\\tau$, we then have that\n",
    "$$\n",
    "    \\int_0^t \\psi(x-ct+2c\\tau)\\, d\\tau = \\frac{1}{2c} \\int_{x-ct}^{x+ct} \\psi(\\theta)\\, d\\theta.\n",
    "$$\n",
    "The expression (1.59a) is then obtained by substituting these results into the formula of part (c). $\\Box$\n"
   ]
  },
  {
   "cell_type": "markdown",
   "metadata": {},
   "source": [
    "# Exercise 1.15\n",
    "\n",
    "Here, we perform a theoretical analysis of the numerical experiments reported in Table 1.1. \n",
    "There, the forward Euler method was applied to the IVP (1.18), and the experiments indicated that the error $E(\\Delta t)$ at $t=1$ satisfies\n",
    "$$\n",
    "    \\large E(\\Delta t)\\approx 1.359\\Delta t\n",
    "$$"
   ]
  },
  {
   "cell_type": "markdown",
   "metadata": {},
   "source": [
    "(a) \n",
    "Let $0\\leq (m+1)\\Delta t\\leq T$ and $u(t)$ be the solution of (1.18). \n",
    "Show that if $t_m=m\\Delta t$, then\n",
    "$$\n",
    "    \\large \\frac{u(t_{m+1})-u(t_m)}{\\Delta t} = u(t_m) + \\tau_m,\n",
    "$$\n",
    "where the truncation error $\\tau_m$ satisfies\n",
    "$$\n",
    "    \\large |\\tau_m| \\leq \\frac{\\Delta t}{2} e^T, \\ \\text{ for } \\ 0\\leq (m+1)\\delta t\\leq T.\n",
    "$$"
   ]
  },
  {
   "cell_type": "markdown",
   "metadata": {},
   "source": [
    "***Proof of (a)***\n",
    "\n",
    "Assume $u$ solves (1.18), then using the notation above and substituting $t=t_m$ into (1.14), we have\n",
    "\n",
    "$$\n",
    "    \\large u'(t_m) = \\frac{u(t_{m+1}) - u(t_m)}{\\Delta t} + R.\n",
    "$$\n",
    "\n",
    "Here, $R$ is some remainder term (a truncation error) that is $O(\\Delta t)$.\n",
    "\n",
    "Now, since $u$ solves (1.18), it follows that $u'(t_m)=u(t_m)$, so we can rewrite the above as\n",
    "\n",
    "$$\n",
    "    \\large  \\frac{u(t_{m+1}) - u(t_m)}{\\Delta t} = u(t_m) + \\tau_m,\n",
    "$$\n",
    "\n",
    "where we have identified $\\tau_m=-R$. \n",
    "We now show that $\\tau_m$ satisfies the inequality in the problem.\n",
    "\n",
    "From (1.13), we see that \n",
    "\n",
    "$$\n",
    "    \\large \\tau_m = \\frac{1}{2}(\\Delta t) u''(c)\n",
    "$$\n",
    "\n",
    "where $c\\in(t_m,t_{m+1})$ is given by the mean value theorem for derivatives.\n",
    "Now, again, since $u$ solves (1.18), we have that $u(c)=e^c$ and $u''(c)=e^c$, so \n",
    "$$\n",
    "    \\large \\tau_m = \\frac{\\Delta t}{2}e^c.\n",
    "$$\n",
    "\n",
    "Since $e^t$ is a monotonically increasing function, we have that $e^c\\leq e^T$, which finishes the proof. $\\Box$\n"
   ]
  },
  {
   "cell_type": "markdown",
   "metadata": {},
   "source": [
    "(b)\n",
    "Assume that $\\{v_m\\}$ is the corresponding forward Euler solution given by \n",
    "$$\n",
    "    \\large v_{m+1} = (1+\\Delta t)v_m, \\ v_0=1, \n",
    "$$\n",
    "and let $w_m = u_m-v_m$ be the error at time $t_m=m\\Delta t$. \n",
    "Explain why $\\{w_m\\}$ satisfies the difference equation\n",
    "$$\n",
    "    \\large w_{m+1}=(1+\\Delta t)w_m + \\Delta t \\tau_m, w_0=0. \n",
    "$$"
   ]
  },
  {
   "cell_type": "markdown",
   "metadata": {},
   "source": [
    "***Solution to (b)***\n",
    "\n",
    "From (a), we see that \n",
    "$$\n",
    "    \\large u_{m+1} = u_m + \\Delta t u_m + \\Delta t \\tau_m = (1+\\Delta t)u_m + \\Delta t\\tau_m.\n",
    "$$\n",
    "So,\n",
    "$$\n",
    "    \\large w_{m+1}=u_{m+1}-v_{m+1} = (1+\\Delta t)u_m + \\Delta t \\tau_m - (1+\\Delta t)v_m. \n",
    "$$\n",
    "By factoring, we have that\n",
    "$$\n",
    "    \\large w_{m+1} = (1+\\Delta t)w_m + \\Delta t \\tau_m. \n",
    "$$\n",
    "\n",
    "Since $u_0 = 1 = v_0$, we clearly have $w_0=0$. $\\Box$"
   ]
  },
  {
   "cell_type": "markdown",
   "metadata": {},
   "source": [
    "(c) \n",
    "Use induction on $m$ to prove that \n",
    "$$\n",
    "    \\large |w_m| \\leq \\frac{\\Delta t}{2}e^T(e^{t_m}-1), \\ \\text{ for } \\ 0\\leq t_m\\leq T.\n",
    "$$\n",
    "How does this result compare to what was obtained in Table 1.1?"
   ]
  },
  {
   "cell_type": "markdown",
   "metadata": {},
   "source": [
    "***Solution to (c)***\n",
    "\n",
    "It is helpful to write out the first few bounds before applying induction.\n",
    "\n",
    "For $m=1$, we have that \n",
    "\n",
    "$$\n",
    "    \\large |w_1| \\leq \\Delta t \\tau_1 \\leq \\frac{(\\Delta t)^2}{2} e^T\n",
    "$$\n",
    "\n",
    "so for $m=2$, we have that\n",
    "\n",
    "$$\n",
    "    \\large |w_2| \\leq (1+\\Delta t) \\frac{(\\Delta t)^2}{2} e^T + \\frac{(\\Delta t)^2}{2} e^T.\n",
    "$$\n",
    "\n",
    "Then, for $m=3$, we have that\n",
    "\n",
    "$$\n",
    "    \\large |w_3| \\leq (1+\\Delta t)^2 \\frac{(\\Delta t)^2}{2} e^T + (1+\\Delta t)\\frac{(\\Delta t)^2}{2} e^T + \\frac{(\\Delta t)^2}{2} e^T.\n",
    "$$\n",
    "\n",
    "We then see from induction that\n",
    "\n",
    "$$\n",
    "    \\large |w_m| \\leq \\frac{(\\Delta t)^2}{2} e^T \\sum_{i=0}^{m-1} (1+\\Delta t)^i.\n",
    "$$\n",
    "\n",
    "The sum is a partial sum of a geometric series, which can easily be calculated to show that\n",
    "\n",
    "$$\n",
    "    \\large |w_m| \\leq \\frac{(\\Delta t)^2}{2} e^T \\left[\\frac{(1+\\Delta t)^m - 1}{\\Delta t}\\right], \n",
    "$$\n",
    "\n",
    "which gives\n",
    "\n",
    "$$\n",
    "    \\large |w_m| \\leq \\frac{\\Delta t}{2} e^T \\left[(1+\\Delta t)^m - 1\\right].\n",
    "$$\n",
    "\n",
    "The desired result is obtained by using the inequality $1+\\Delta t\\leq e^{\\Delta t}$ and observing that $(e^{\\Delta t})^m = e^{m\\Delta t} = e^{t_m}$. \n",
    "\n",
    "We numerically investigate this result and how it compares to Table 1.1 in the code cell below."
   ]
  },
  {
   "cell_type": "code",
   "execution_count": 5,
   "metadata": {
    "collapsed": false
   },
   "outputs": [
    {
     "name": "stdout",
     "output_type": "stream",
     "text": [
      "[  2.33538714e-01   2.33538714e-02   2.33538714e-03   2.33538714e-04\n",
      "   2.33538714e-05   2.33538714e-06]\n"
     ]
    }
   ],
   "source": [
    "Delta_t = np.array([1./10, 1./10**2, 1./10**3, 1./10**4, 1./10**5, 1./10**6])\n",
    "\n",
    "w_bound = Delta_t/2*np.exp(1)*(np.exp(1)-1)\n",
    "print w_bound"
   ]
  },
  {
   "cell_type": "markdown",
   "metadata": {},
   "source": [
    "We see that the error bound is the same order magnitude as the actual error and decreases in a similar way, but is consistently about twice as much as the actual error. "
   ]
  },
  {
   "cell_type": "markdown",
   "metadata": {},
   "source": [
    "# Project 1.3: *Numerical Methods for ODEs*\n",
    "\n",
    "The purpose of this project is to illustrate that there is more to life than forward Euler. \n",
    "Numerical methods for ordinary differential equations is a vast subject reaching far beyond our scope. \n",
    "However, some ideas applied in that field will appear later in the text, so we use this project to present them in a simple framework.\n",
    "\n",
    "We start by considering the problem\n",
    "$$ u{'}(t) = −u(t),\\quad u(0) = 1, $$\n",
    "which we know has the analytical solution $u(t) = e^{−t}$."
   ]
  },
  {
   "cell_type": "markdown",
   "metadata": {},
   "source": [
    "(a) Show that the numerical solution computed by the forward Euler method (see (1.17) page 8 is given by\n",
    "\n",
    "$$ v_m = (1 − \\Delta t)^m, \\quad m= 0, 1, . . . $$"
   ]
  },
  {
   "cell_type": "markdown",
   "metadata": {},
   "source": [
    "***Solution to (a) ***\n",
    "\n",
    "From (1.17), we have $v_{m+1} = v_m + \\Delta t f(v_m)$.\n",
    "Here $f(v_m)=-v_m$, so \n",
    "$$\n",
    "    v_{m+1} = v_m + \\Delta t(-v_m) = (1-\\Delta t)v_m.\n",
    "$$\n",
    "Since $v_m=(1-\\Delta t) v_{m-1}$, and $v_{m-1} = (1-\\Delta t)v_{m-2}$, and so on, we see by $m$ applications of this formula and using the fact that $v_0=1$, \n",
    "$$\n",
    "    \\boxed{v_m = (1-\\Delta t)^m} \n",
    "$$\n",
    "where $m=0,1,\\ldots$ was arbitrary. $\\Box$"
   ]
  },
  {
   "cell_type": "markdown",
   "metadata": {},
   "source": [
    "(b) Show that $v_m$ converges toward the correct solution at $t = 1$ as $\\Delta t$ tends to zero."
   ]
  },
  {
   "cell_type": "markdown",
   "metadata": {},
   "source": [
    "***Solution to (b)***\n",
    "\n",
    "A well known limit (e.g., see https://en.wikipedia.org/wiki/List_of_limits) is \n",
    "$$\n",
    "    \\lim_{x\\to\\infty} \\left(1-\\frac{1}{x}\\right)^x = e^{-1}.\n",
    "$$\n",
    "At $t=1$, $m=1/\\Delta t$, so $\\Delta t = 1/m$ and as $\\Delta t\\to 0$, we have that $m\\to\\infty$, and the form of $v_m$ from (a) is of the form of the above limit if we substitute $\\Delta t = 1/m$, so the conclusion follows. $\\Box$"
   ]
  },
  {
   "cell_type": "markdown",
   "metadata": {},
   "source": [
    "(c) In the derivation of the forward Euler method on page 8, we argued that\n",
    "\n",
    "$$ \\frac{u(t_{m+1}) − u(t_m)}{\\Delta t} \\approx u{'}(t_m) = f(u(t_m)); $$\n",
    "\n",
    "see (1.15). Show, in a similar manner, that we have\n",
    "\n",
    "$$ \\frac{u(t_{m+1}) − u(t_m)}{\\Delta t} \\approx u{'}(t_{m+1}) = f(u(t_{m+1})) $$"
   ]
  },
  {
   "cell_type": "markdown",
   "metadata": {},
   "source": [
    "***Solution to (c)***\n",
    "\n",
    "This follows immediately from expanding the Taylor series about $t_{m+1}$ instead of at $t_m$. $\\Box$"
   ]
  },
  {
   "cell_type": "markdown",
   "metadata": {},
   "source": [
    "(d) Use part (c) to derive the backward Euler method,\n",
    "\n",
    "$$ v_{m+1} − \\Delta tf(v_{m+1}) = v_m, \\quad m= 0, 1, \\ldots $$"
   ]
  },
  {
   "cell_type": "markdown",
   "metadata": {},
   "source": [
    "***Solution to (d)***\n",
    "\n",
    "This follows immediately by replacing $u(t_m)$ with $v_m$ and $u(t_{m+1})$ with $v_{m+1}$ and re-arranging the equation with some simple algebra. $\\Box$"
   ]
  },
  {
   "cell_type": "markdown",
   "metadata": {},
   "source": [
    "(e) Apply the backward Euler method to the problem (1.65) and show that\n",
    "\n",
    "$$ v_m = \\frac{1}{(1+\\Delta t)^m},\\quad m= 0, 1, \\ldots$$"
   ]
  },
  {
   "cell_type": "markdown",
   "metadata": {},
   "source": [
    "***Solution to (e)***\n",
    "\n",
    "Since $f(v_{m+1}) = -v_{m+1}$, the formula from (d) becomes\n",
    "$$\n",
    "    v_{m+1}+\\Delta t v_{m+1}=v_m, \n",
    "$$\n",
    "so\n",
    "$$\n",
    "    v_{m+1} = \\frac{v_m}{1+\\Delta t}.\n",
    "$$\n",
    "Like in part (a), we see that repeated application of this $m$ times for $v_m$ and using the fact that $v_0=1$ gives\n",
    "$$\n",
    "    v_m = \\frac{1}{(1+\\Delta t)^m}. \\ \\Box\n",
    "$$"
   ]
  },
  {
   "cell_type": "markdown",
   "metadata": {},
   "source": [
    "(f) Explain why\n",
    "\n",
    "$$ \\frac{u(t_{m+1}) − u(t_m)}{\\Delta t} \\approx \\frac{1}{2}f(u(t_{m+1})) + f(u(t_m)) $$\n",
    "\n",
    "and use this to derive the scheme\n",
    "\n",
    "$$ v_{m+1} − \\frac{1}{2}\\Delta tf(v_{m+1}) = v_m + \\frac{1}{2}\\Delta tf(v_m),\\quad m= 0, 1,\\ldots $$"
   ]
  },
  {
   "cell_type": "markdown",
   "metadata": {},
   "source": [
    "***Solution to (f)***\n",
    "\n",
    "The approximation is easily obtained by averaging the Taylor series expanded around $t_m$ and $t_{m+1}$.\n",
    "\n",
    "Making the requisite substitutions of $v_m$ for $u(t_m)$ and $v_{m+1}$ for $u(t_{m+1})$ and re-arranging terms with simple algebra reveals the scheme. $\\Box$"
   ]
  },
  {
   "cell_type": "markdown",
   "metadata": {},
   "source": [
    "(g) Apply the scheme from (f) to (1.65) and show that\n",
    "\n",
    "$$ v_m = \\left( \\frac{2 - \\Delta t}{2 + \\Delta t} \\right)^m $$"
   ]
  },
  {
   "cell_type": "markdown",
   "metadata": {},
   "source": [
    "***Solution to (g)***\n",
    "\n",
    "Since $f(u)=-u$, we see that the scheme from part (f) reduces to\n",
    "$$\n",
    "    v_{m+1}\\left(1+\\frac{1}{2}\\Delta t\\right) = v_m\\left(1-\\frac{1}{2}\\Delta t\\right) \n",
    "$$\n",
    "and muliplying both sides by $2$ and solving for $v_{m+1}$ gives \n",
    "$$\n",
    "    v_{m+1} = \\left(\\frac{2-\\Delta t}{2+\\Delta t}\\right) v_m.\n",
    "$$\n",
    "As before with the other schemes, we see through repeated application of this formula and using the fact that $v_0=1$ that\n",
    "$$\n",
    "    v_m = \\left(\\frac{2-\\Delta t}{2+\\Delta t}\\right)^m.\n",
    "$$"
   ]
  },
  {
   "cell_type": "markdown",
   "metadata": {},
   "source": [
    "(h) Compare the accuracy of the three methods by computing approximations to the solutions of (1.65) at t = 1. \n",
    "Use the technique displayed in Table 1.1 and Project 1.1 to argue that the errors when using the schemes (1.66),  (1.70), and (1.72) are $O(\\Delta t)$, $O(\\Delta t)$, and $O((\\Delta t)^2)$, respectively."
   ]
  },
  {
   "cell_type": "code",
   "execution_count": 6,
   "metadata": {
    "collapsed": false
   },
   "outputs": [
    {
     "name": "stdout",
     "output_type": "stream",
     "text": [
      "Estimated rate of convergence for FE [ 1.06599392  1.03144394  1.01536564]\n",
      "Estimated rate of convergence for BE [ 0.94465575  0.971194    0.98529234]\n",
      "Estimated rate of convergence for CN [ 2.0047096   2.00117349  2.00029313]\n"
     ]
    }
   ],
   "source": [
    "m = np.array([5, 10, 20, 40, 80])\n",
    "Delta_t = 1./m\n",
    "\n",
    "u_exact = np.exp(-1)\n",
    "\n",
    "# Forward Euler\n",
    "Err_FE = 0*Delta_t\n",
    "count = 0\n",
    "for i in m:    \n",
    "    Err_FE[count] = u_exact - (1.-Delta_t[count])**i\n",
    "    count += 1\n",
    "    \n",
    "alpha_FE = np.log(np.abs(Err_FE[1:-1]/Err_FE[0:-2]))/np.log(Delta_t[1:-1]/Delta_t[0:-2])\n",
    "print 'Estimated rate of convergence for FE', alpha_FE\n",
    "\n",
    "# Backward Euler\n",
    "Err_BE = 0*Delta_t\n",
    "count = 0\n",
    "for i in m:    \n",
    "    Err_BE[count] = u_exact - 1./(1.+Delta_t[count])**i\n",
    "    count += 1\n",
    "    \n",
    "alpha_BE = np.log(np.abs(Err_BE[1:-1]/Err_BE[0:-2]))/np.log(Delta_t[1:-1]/Delta_t[0:-2])\n",
    "print 'Estimated rate of convergence for BE', alpha_BE\n",
    "\n",
    "# Crank-Nicolson\n",
    "Err_CN = 0*Delta_t\n",
    "count = 0\n",
    "for i in m:    \n",
    "    Err_CN[count] = u_exact - ((2-Delta_t[count])/(2+Delta_t[count]))**i\n",
    "    count += 1\n",
    "    \n",
    "alpha_CN = np.log(np.abs(Err_CN[1:-1]/Err_CN[0:-2]))/np.log(Delta_t[1:-1]/Delta_t[0:-2])\n",
    "print 'Estimated rate of convergence for CN', alpha_CN\n"
   ]
  },
  {
   "cell_type": "markdown",
   "metadata": {},
   "source": [
    "Based on the estimated rates of convergence from above, it appears that the schemes are indeed of the order specified by the problem."
   ]
  },
  {
   "cell_type": "markdown",
   "metadata": {},
   "source": [
    "(i) Implement the schemes discussed above for $f(v) = −v$.\n",
    "Check the correctness of your implementation by using your code to generate approximations of (1.65)."
   ]
  },
  {
   "cell_type": "code",
   "execution_count": 7,
   "metadata": {
    "collapsed": false
   },
   "outputs": [
    {
     "name": "stdout",
     "output_type": "stream",
     "text": [
      "Estimated rate of convergence for FE [ 1.06599392  1.03144394  1.01536564]\n",
      "Estimated rate of convergence for BE [ 0.94465575  0.971194    0.98529234]\n",
      "Estimated rate of convergence for CN [ 2.0047096   2.00117349  2.00029313]\n"
     ]
    }
   ],
   "source": [
    "# I'll instead check the accuracy of the approximations, which is even better\n",
    "\n",
    "m = np.array([5, 10, 20, 40, 80])\n",
    "Delta_t = 1./m\n",
    "\n",
    "u_exact = np.exp(-1)\n",
    "\n",
    "# Forward Euler\n",
    "Err_FE = 0*Delta_t\n",
    "count = 0\n",
    "for i in m:\n",
    "    u_approx = np.zeros(i+1)\n",
    "    u_approx[0] = 1\n",
    "    for j in xrange(0,i):\n",
    "        u_approx[j+1] = (1-Delta_t[count])*u_approx[j]\n",
    "    Err_FE[count] = u_exact - u_approx[-1]\n",
    "    count += 1\n",
    "    \n",
    "alpha_FE = np.log(np.abs(Err_FE[1:-1]/Err_FE[0:-2]))/np.log(Delta_t[1:-1]/Delta_t[0:-2])\n",
    "print 'Estimated rate of convergence for FE', alpha_FE\n",
    "\n",
    "# Backward Euler\n",
    "Err_BE = 0*Delta_t\n",
    "count = 0\n",
    "for i in m:\n",
    "    u_approx = np.zeros(i+1)\n",
    "    u_approx[0] = 1\n",
    "    for j in xrange(0,i):\n",
    "        u_approx[j+1] = u_approx[j]/(1+Delta_t[count])\n",
    "    Err_BE[count] = u_exact - u_approx[-1]\n",
    "    count += 1\n",
    "    \n",
    "alpha_BE = np.log(np.abs(Err_BE[1:-1]/Err_BE[0:-2]))/np.log(Delta_t[1:-1]/Delta_t[0:-2])\n",
    "print 'Estimated rate of convergence for BE', alpha_BE\n",
    "\n",
    "# Crank-Nicolson\n",
    "Err_CN = 0*Delta_t\n",
    "count = 0\n",
    "for i in m:  \n",
    "    u_approx = np.zeros(i+1)\n",
    "    u_approx[0] = 1\n",
    "    for j in xrange(0,i):\n",
    "        u_approx[j+1] = u_approx[j]*((2-Delta_t[count])/(2+Delta_t[count]))\n",
    "    Err_CN[count] = u_exact - u_approx[-1]\n",
    "    count += 1\n",
    "    \n",
    "alpha_CN = np.log(np.abs(Err_CN[1:-1]/Err_CN[0:-2]))/np.log(Delta_t[1:-1]/Delta_t[0:-2])\n",
    "print 'Estimated rate of convergence for CN', alpha_CN\n"
   ]
  },
  {
   "cell_type": "markdown",
   "metadata": {},
   "source": [
    "(j) Generalize your codes to the problem\n",
    "\n",
    "$$ u'(t) = −u^2(t),\\ u(0) = 1. $$\n",
    "\n",
    "(k) Derive the exact solution of (1.73) and use this to study the error of three schemes at $t = 1$. Do the conclusions of (h) above also apply to this nonlinear problem?\n",
    "\n",
    "***We'll solve (j) and (k) together***"
   ]
  },
  {
   "cell_type": "markdown",
   "metadata": {},
   "source": [
    "In the code from the previous part, we simply update the iterations to compute the approximate solutions.\n",
    "The changes to forward Euler are straightforward.\n",
    "The other two methods require solving a quadratic equation, which we do by hand using the quadratic formula at each iteration, and the end result is shown in the code below.\n",
    "The exact solution is easily obtained through a separation of variables and is given by\n",
    "$$\n",
    "    u(t) = \\frac{1}{t+1}.\n",
    "$$"
   ]
  },
  {
   "cell_type": "code",
   "execution_count": 8,
   "metadata": {
    "collapsed": false
   },
   "outputs": [
    {
     "name": "stdout",
     "output_type": "stream",
     "text": [
      "Estimated rate of convergence for FE [ 1.08632747  1.03974912  1.01917146]\n",
      "Estimated rate of convergence for BE [ 0.93386037  0.96509209  0.9820268 ]\n",
      "Estimated rate of convergence for CN [ 2.01273066  2.00316266  2.0007894 ]\n"
     ]
    },
    {
     "data": {
      "image/png": "[encoded data removed]",
      "text/plain": [
       "<matplotlib.figure.Figure at 0x1442bf28>"
      ]
     },
     "metadata": {},
     "output_type": "display_data"
    },
    {
     "data": {
      "image/png": "[encoded data removed]",
      "text/plain": [
       "<matplotlib.figure.Figure at 0x144d80f0>"
      ]
     },
     "metadata": {},
     "output_type": "display_data"
    },
    {
     "data": {
      "image/png": "[encoded data removed]",
      "text/plain": [
       "<matplotlib.figure.Figure at 0x145dd780>"
      ]
     },
     "metadata": {},
     "output_type": "display_data"
    }
   ],
   "source": [
    "# I'll instead check the accuracy of the approximations, which is even better\n",
    "\n",
    "m = np.array([5, 10, 20, 40, 80])\n",
    "Delta_t = 1./m\n",
    "\n",
    "u_exact = 1./2\n",
    "\n",
    "# Forward Euler\n",
    "Err_FE = 0*Delta_t\n",
    "count = 0\n",
    "for i in m:\n",
    "    u_approx = np.zeros(i+1)\n",
    "    u_approx[0] = 1\n",
    "    for j in xrange(0,i):\n",
    "        u_approx[j+1] = u_approx[j]-Delta_t[count]*u_approx[j]**2\n",
    "    Err_FE[count] = u_exact - u_approx[-1]\n",
    "    t = np.linspace(0,1,i+1)\n",
    "    plt.figure(1)\n",
    "    plt.plot(t,u_approx)\n",
    "    count += 1\n",
    "    \n",
    "alpha_FE = np.log(np.abs(Err_FE[1:-1]/Err_FE[0:-2]))/np.log(Delta_t[1:-1]/Delta_t[0:-2])\n",
    "print 'Estimated rate of convergence for FE', alpha_FE\n",
    "\n",
    "# Backward Euler\n",
    "Err_BE = 0*Delta_t\n",
    "count = 0\n",
    "for i in m:\n",
    "    u_approx = np.zeros(i+1)\n",
    "    u_approx[0] = 1\n",
    "    for j in xrange(0,i):\n",
    "        u_approx[j+1] = (-1 + np.sqrt(1+4*Delta_t[count]*u_approx[j])) / (2*Delta_t[count])\n",
    "    Err_BE[count] = u_exact - u_approx[-1]\n",
    "    t = np.linspace(0,1,i+1)\n",
    "    plt.figure(2)\n",
    "    plt.plot(t,u_approx)\n",
    "    count += 1\n",
    "    \n",
    "alpha_BE = np.log(np.abs(Err_BE[1:-1]/Err_BE[0:-2]))/np.log(Delta_t[1:-1]/Delta_t[0:-2])\n",
    "print 'Estimated rate of convergence for BE', alpha_BE\n",
    "\n",
    "# Crank-Nicolson\n",
    "Err_CN = 0*Delta_t\n",
    "count = 0\n",
    "for i in m:  \n",
    "    u_approx = np.zeros(i+1)\n",
    "    u_approx[0] = 1\n",
    "    for j in xrange(0,i):\n",
    "        u_approx[j+1] = (-1 + np.sqrt(1-4*(Delta_t[count]/2.)*(0.5*Delta_t[count]*u_approx[j]**2-u_approx[j]))) / (2*Delta_t[count]/2.)\n",
    "        Err_CN[count] = u_exact - u_approx[-1]\n",
    "    plt.figure(3)\n",
    "    t = np.linspace(0,1,i+1)\n",
    "    plt.plot(t,u_approx)\n",
    "    count += 1\n",
    "    \n",
    "alpha_CN = np.log(np.abs(Err_CN[1:-1]/Err_CN[0:-2]))/np.log(Delta_t[1:-1]/Delta_t[0:-2])\n",
    "print 'Estimated rate of convergence for CN', alpha_CN"
   ]
  },
  {
   "cell_type": "markdown",
   "metadata": {
    "collapsed": true
   },
   "source": [
    "Evidently so. "
   ]
  },
  {
   "cell_type": "code",
   "execution_count": null,
   "metadata": {
    "collapsed": true
   },
   "outputs": [],
   "source": []
  }
 ],
 "metadata": {
  "anaconda-cloud": {},
  "kernelspec": {
   "display_name": "Python 2",
   "language": "python",
   "name": "python2"
  },
  "language_info": {
   "codemirror_mode": {
    "name": "ipython",
    "version": 2
   },
   "file_extension": ".py",
   "mimetype": "text/x-python",
   "name": "python",
   "nbconvert_exporter": "python",
   "pygments_lexer": "ipython2",
   "version": "2.7.13"
  }
 },
 "nbformat": 4,
 "nbformat_minor": 0
}
